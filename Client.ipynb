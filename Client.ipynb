{
 "cells": [
  {
   "cell_type": "code",
   "execution_count": null,
   "metadata": {},
   "outputs": [],
   "source": []
  },
  {
   "cell_type": "code",
   "execution_count": 29,
   "metadata": {},
   "outputs": [],
   "source": [
    "import requests\n",
    "import json"
   ]
  },
  {
   "cell_type": "code",
   "execution_count": 30,
   "metadata": {},
   "outputs": [],
   "source": [
    "# URL base de la API\n",
    "BASE_URL = \"http://localhost:5282/api/Products\"\n",
    "\n"
   ]
  },
  {
   "cell_type": "code",
   "execution_count": 31,
   "metadata": {},
   "outputs": [],
   "source": [
    "def create_product(product):\n",
    "    # Serializar el producto a JSON\n",
    "    headers = {'Content-Type': 'application/json'}\n",
    "    \n",
    "    # Desactivar la verificación del certificado SSL\n",
    "    response = requests.post(BASE_URL, data=json.dumps(product), headers=headers, verify=False)\n",
    "    \n",
    "    if response.status_code == 201:\n",
    "        print(\"Producto creado exitosamente!\")\n",
    "        print(\"Respuesta:\", response.json())\n",
    "    else:\n",
    "        print(f\"Error al crear el producto. Código de estado: {response.status_code}\")\n",
    "        print(\"Detalle del error:\", response.text)\n",
    "\n"
   ]
  },
  {
   "cell_type": "code",
   "execution_count": 32,
   "metadata": {},
   "outputs": [],
   "source": [
    "def update_product(product_id, updated_product):\n",
    "    headers = {'Content-Type': 'application/json'}\n",
    "    url = f\"{BASE_URL}/{product_id}\"\n",
    "    \n",
    "    # Hacer la petición PUT para actualizar el producto\n",
    "    response = requests.put(url, data=json.dumps(updated_product), headers=headers, verify=False)\n",
    "    \n",
    "    if response.status_code == 200:\n",
    "        print(\"Producto actualizado exitosamente!\")\n",
    "        print(\"Respuesta:\", response.json())\n",
    "    else:\n",
    "        print(f\"Error al actualizar el producto. Código de estado: {response.status_code}\")\n",
    "        print(\"Detalle del error:\", response.text)"
   ]
  },
  {
   "cell_type": "code",
   "execution_count": 33,
   "metadata": {},
   "outputs": [],
   "source": [
    "def delete_product(product_id):\n",
    "    headers = {'Content-Type': 'application/json'}\n",
    "    url = f\"{BASE_URL}/{product_id}\"\n",
    "    \n",
    "    # Hacer la petición DELETE para eliminar el producto\n",
    "    response = requests.delete(url, headers=headers, verify=False)\n",
    "    \n",
    "    if response.status_code == 204:\n",
    "        print(\"Producto eliminado exitosamente!\")\n",
    "    else:\n",
    "        print(f\"Error al eliminar el producto. Código de estado: {response.status_code}\")\n",
    "        print(\"Detalle del error:\", response.text)"
   ]
  },
  {
   "cell_type": "code",
   "execution_count": 34,
   "metadata": {},
   "outputs": [],
   "source": [
    "# Datos del producto que deseas crear\n",
    "product_data = {\n",
    "  \"nombre\": \"Fuente 500\",\n",
    "  \"descripcion\": \"Fuente de poder 500W\",\n",
    "  \"precio\": 2500,\n",
    "  \"stock\": 10,\n",
    "  \"fechaCreacion\": \"2024-10-27T19:37:24.080Z\"\n",
    "}"
   ]
  },
  {
   "cell_type": "code",
   "execution_count": 35,
   "metadata": {},
   "outputs": [
    {
     "name": "stdout",
     "output_type": "stream",
     "text": [
      "Producto creado exitosamente!\n",
      "Respuesta: {'id': {'timestamp': 1730062991, 'creationTime': '2024-10-27T21:03:11Z'}, 'nombre': 'Fuente 500', 'descripcion': 'Fuente de poder 500W', 'precio': 2500, 'stock': 10, 'fechaCreacion': '2024-10-27T19:37:24.08Z'}\n"
     ]
    },
    {
     "name": "stderr",
     "output_type": "stream",
     "text": [
      "c:\\Users\\julio\\AppData\\Local\\Programs\\Python\\Python312\\Lib\\site-packages\\urllib3\\connectionpool.py:1099: InsecureRequestWarning: Unverified HTTPS request is being made to host 'localhost'. Adding certificate verification is strongly advised. See: https://urllib3.readthedocs.io/en/latest/advanced-usage.html#tls-warnings\n",
      "  warnings.warn(\n"
     ]
    }
   ],
   "source": [
    "# Llamar a la función para crear el producto\n",
    "create_product(product_data)"
   ]
  },
  {
   "cell_type": "code",
   "execution_count": 37,
   "metadata": {},
   "outputs": [],
   "source": [
    "# Datos del producto que deseas crear\n",
    "product_modify = {\n",
    "  \"nombre\": \"Fuente 500\",\n",
    "  \"descripcion\": \"Fuente de poder 500W\",\n",
    "  \"precio\": 2500,\n",
    "  \"stock\": 2000,\n",
    "  \"fechaCreacion\": \"2024-10-27T19:37:24.080Z\"\n",
    "}"
   ]
  },
  {
   "cell_type": "code",
   "execution_count": 38,
   "metadata": {},
   "outputs": [
    {
     "name": "stdout",
     "output_type": "stream",
     "text": [
      "Producto actualizado exitosamente!\n",
      "Respuesta: {'id': {'timestamp': 1730062991, 'creationTime': '2024-10-27T21:03:11Z'}, 'nombre': 'Fuente 500', 'descripcion': 'Fuente de poder 500W', 'precio': 2500, 'stock': 2000, 'fechaCreacion': '2024-10-27T19:37:24.08Z'}\n"
     ]
    },
    {
     "name": "stderr",
     "output_type": "stream",
     "text": [
      "c:\\Users\\julio\\AppData\\Local\\Programs\\Python\\Python312\\Lib\\site-packages\\urllib3\\connectionpool.py:1099: InsecureRequestWarning: Unverified HTTPS request is being made to host 'localhost'. Adding certificate verification is strongly advised. See: https://urllib3.readthedocs.io/en/latest/advanced-usage.html#tls-warnings\n",
      "  warnings.warn(\n"
     ]
    }
   ],
   "source": [
    "update_product('671eaa8f8a1917ac5cecb239', product_modify)  # Modificar producto con ID 1"
   ]
  },
  {
   "cell_type": "code",
   "execution_count": 39,
   "metadata": {},
   "outputs": [
    {
     "name": "stdout",
     "output_type": "stream",
     "text": [
      "Producto eliminado exitosamente!\n"
     ]
    },
    {
     "name": "stderr",
     "output_type": "stream",
     "text": [
      "c:\\Users\\julio\\AppData\\Local\\Programs\\Python\\Python312\\Lib\\site-packages\\urllib3\\connectionpool.py:1099: InsecureRequestWarning: Unverified HTTPS request is being made to host 'localhost'. Adding certificate verification is strongly advised. See: https://urllib3.readthedocs.io/en/latest/advanced-usage.html#tls-warnings\n",
      "  warnings.warn(\n"
     ]
    }
   ],
   "source": [
    "delete_product('671eaa8f8a1917ac5cecb239')  # Eliminar producto con ID 1"
   ]
  }
 ],
 "metadata": {
  "kernelspec": {
   "display_name": "Python 3",
   "language": "python",
   "name": "python3"
  },
  "language_info": {
   "codemirror_mode": {
    "name": "ipython",
    "version": 3
   },
   "file_extension": ".py",
   "mimetype": "text/x-python",
   "name": "python",
   "nbconvert_exporter": "python",
   "pygments_lexer": "ipython3",
   "version": "3.12.4"
  }
 },
 "nbformat": 4,
 "nbformat_minor": 2
}
